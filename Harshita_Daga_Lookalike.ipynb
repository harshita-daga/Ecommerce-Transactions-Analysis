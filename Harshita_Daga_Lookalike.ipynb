{
 "cells": [
  {
   "cell_type": "code",
   "execution_count": 5,
   "id": "6e6206d9-2ef4-4232-8541-b03bf7aca404",
   "metadata": {},
   "outputs": [
    {
     "name": "stdout",
     "output_type": "stream",
     "text": [
      "Lookalike model completed. Results saved to Lookalike.csv.\n"
     ]
    }
   ],
   "source": [
    "import pandas as pd\n",
    "from sklearn.metrics.pairwise import cosine_similarity\n",
    "from sklearn.preprocessing import StandardScaler\n",
    "import numpy as np\n",
    "\n",
    "# Load datasets\n",
    "transactions = pd.read_csv('Transactions.csv')\n",
    "products = pd.read_csv('Products.csv')\n",
    "customers = pd.read_csv('Customers.csv')\n",
    "\n",
    "# Merge Transactions with Customers and Products\n",
    "merged = pd.merge(transactions, customers, on=\"CustomerID\", how=\"left\")\n",
    "merged = pd.merge(merged, products, on=\"ProductID\", how=\"left\")\n",
    "\n",
    "# Feature Engineering: Aggregating transaction-level data to customer-level\n",
    "customer_features = merged.groupby('CustomerID').agg({\n",
    "    'TotalValue': 'sum',  # Total spending\n",
    "    'Quantity': 'sum',    # Total quantity purchased\n",
    "    'ProductID': 'nunique',  # Number of unique products purchased\n",
    "    'Category': lambda x: x.value_counts().index[0],  # Most purchased category\n",
    "    'Region': 'first'     # Region of the customer\n",
    "}).reset_index()\n",
    "\n",
    "# One-hot encode categorical columns (Region and Category)\n",
    "customer_features_encoded = pd.get_dummies(customer_features, columns=['Region', 'Category'], drop_first=True)\n",
    "\n",
    "# Normalize numerical features for cosine similarity\n",
    "scaler = StandardScaler()\n",
    "numerical_columns = ['TotalValue', 'Quantity', 'ProductID']\n",
    "customer_features_encoded[numerical_columns] = scaler.fit_transform(customer_features_encoded[numerical_columns])\n",
    "\n",
    "# Compute Cosine Similarity Matrix\n",
    "customer_ids = customer_features_encoded['CustomerID']\n",
    "feature_matrix = customer_features_encoded.drop(columns=['CustomerID'])\n",
    "similarity_matrix = cosine_similarity(feature_matrix)\n",
    "\n",
    "# Function to find top 3 lookalikes for a given customer ID\n",
    "def find_top_lookalikes(customer_index, similarity_matrix, customer_ids, top_n=3):\n",
    "    customer_similarities = similarity_matrix[customer_index]\n",
    "    similar_indices = np.argsort(-customer_similarities)[1:top_n + 1]  # Exclude itself (index 0)\n",
    "    similar_customers = customer_ids.iloc[similar_indices].tolist()\n",
    "    similarity_scores = customer_similarities[similar_indices].tolist()\n",
    "    return list(zip(similar_customers, similarity_scores))\n",
    "\n",
    "# Generate lookalikes for first 20 customers\n",
    "lookalike_results = {}\n",
    "for i, customer_id in enumerate(customer_ids[:20]):\n",
    "    lookalike_results[customer_id] = find_top_lookalikes(i, similarity_matrix, customer_ids)\n",
    "\n",
    "# Convert results to the required \"Lookalike.csv\" format\n",
    "lookalike_data = []\n",
    "for cust_id, similar_customers in lookalike_results.items():\n",
    "    for similar_cust_id, score in similar_customers:\n",
    "        lookalike_data.append([cust_id, similar_cust_id, score])\n",
    "\n",
    "lookalike_df = pd.DataFrame(lookalike_data, columns=['CustomerID', 'SimilarCustomerID', 'SimilarityScore'])\n",
    "\n",
    "# Save to CSV\n",
    "lookalike_df.to_csv('Harshita_Daga_Lookalike.csv', index=False)\n",
    "\n",
    "print(\"Lookalike model completed. Results saved to Lookalike.csv.\")\n"
   ]
  },
  {
   "cell_type": "code",
   "execution_count": null,
   "id": "45f7c3f8-b84b-49e2-9a88-3a2ed43ac455",
   "metadata": {},
   "outputs": [],
   "source": []
  }
 ],
 "metadata": {
  "kernelspec": {
   "display_name": "Python 3 (ipykernel)",
   "language": "python",
   "name": "python3"
  },
  "language_info": {
   "codemirror_mode": {
    "name": "ipython",
    "version": 3
   },
   "file_extension": ".py",
   "mimetype": "text/x-python",
   "name": "python",
   "nbconvert_exporter": "python",
   "pygments_lexer": "ipython3",
   "version": "3.11.5"
  }
 },
 "nbformat": 4,
 "nbformat_minor": 5
}
